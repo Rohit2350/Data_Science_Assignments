{
 "cells": [
  {
   "cell_type": "code",
   "execution_count": 75,
   "id": "28fb938f",
   "metadata": {},
   "outputs": [],
   "source": [
    "import pandas as pd\n",
    "import numpy as np\n",
    "import seaborn as sns\n",
    "import statsmodels.api as sm\n",
    "import statsmodels.formula.api as smf \n",
    "import scipy.stats as stats\n",
    "import matplotlib.pyplot as plt\n",
    "from scipy.stats import probplot\n",
    "from sklearn import preprocessing \n",
    "import statsmodels.api as sm "
   ]
  },
  {
   "cell_type": "code",
   "execution_count": 3,
   "id": "6184c28a",
   "metadata": {},
   "outputs": [
    {
     "data": {
      "text/html": [
       "<div>\n",
       "<style scoped>\n",
       "    .dataframe tbody tr th:only-of-type {\n",
       "        vertical-align: middle;\n",
       "    }\n",
       "\n",
       "    .dataframe tbody tr th {\n",
       "        vertical-align: top;\n",
       "    }\n",
       "\n",
       "    .dataframe thead th {\n",
       "        text-align: right;\n",
       "    }\n",
       "</style>\n",
       "<table border=\"1\" class=\"dataframe\">\n",
       "  <thead>\n",
       "    <tr style=\"text-align: right;\">\n",
       "      <th></th>\n",
       "      <th>Delivery Time</th>\n",
       "      <th>Sorting Time</th>\n",
       "    </tr>\n",
       "  </thead>\n",
       "  <tbody>\n",
       "    <tr>\n",
       "      <th>0</th>\n",
       "      <td>21.00</td>\n",
       "      <td>10</td>\n",
       "    </tr>\n",
       "    <tr>\n",
       "      <th>1</th>\n",
       "      <td>13.50</td>\n",
       "      <td>4</td>\n",
       "    </tr>\n",
       "    <tr>\n",
       "      <th>2</th>\n",
       "      <td>19.75</td>\n",
       "      <td>6</td>\n",
       "    </tr>\n",
       "    <tr>\n",
       "      <th>3</th>\n",
       "      <td>24.00</td>\n",
       "      <td>9</td>\n",
       "    </tr>\n",
       "    <tr>\n",
       "      <th>4</th>\n",
       "      <td>29.00</td>\n",
       "      <td>10</td>\n",
       "    </tr>\n",
       "    <tr>\n",
       "      <th>5</th>\n",
       "      <td>15.35</td>\n",
       "      <td>6</td>\n",
       "    </tr>\n",
       "    <tr>\n",
       "      <th>6</th>\n",
       "      <td>19.00</td>\n",
       "      <td>7</td>\n",
       "    </tr>\n",
       "    <tr>\n",
       "      <th>7</th>\n",
       "      <td>9.50</td>\n",
       "      <td>3</td>\n",
       "    </tr>\n",
       "    <tr>\n",
       "      <th>8</th>\n",
       "      <td>17.90</td>\n",
       "      <td>10</td>\n",
       "    </tr>\n",
       "    <tr>\n",
       "      <th>9</th>\n",
       "      <td>18.75</td>\n",
       "      <td>9</td>\n",
       "    </tr>\n",
       "    <tr>\n",
       "      <th>10</th>\n",
       "      <td>19.83</td>\n",
       "      <td>8</td>\n",
       "    </tr>\n",
       "    <tr>\n",
       "      <th>11</th>\n",
       "      <td>10.75</td>\n",
       "      <td>4</td>\n",
       "    </tr>\n",
       "    <tr>\n",
       "      <th>12</th>\n",
       "      <td>16.68</td>\n",
       "      <td>7</td>\n",
       "    </tr>\n",
       "    <tr>\n",
       "      <th>13</th>\n",
       "      <td>11.50</td>\n",
       "      <td>3</td>\n",
       "    </tr>\n",
       "    <tr>\n",
       "      <th>14</th>\n",
       "      <td>12.03</td>\n",
       "      <td>3</td>\n",
       "    </tr>\n",
       "    <tr>\n",
       "      <th>15</th>\n",
       "      <td>14.88</td>\n",
       "      <td>4</td>\n",
       "    </tr>\n",
       "    <tr>\n",
       "      <th>16</th>\n",
       "      <td>13.75</td>\n",
       "      <td>6</td>\n",
       "    </tr>\n",
       "    <tr>\n",
       "      <th>17</th>\n",
       "      <td>18.11</td>\n",
       "      <td>7</td>\n",
       "    </tr>\n",
       "    <tr>\n",
       "      <th>18</th>\n",
       "      <td>8.00</td>\n",
       "      <td>2</td>\n",
       "    </tr>\n",
       "    <tr>\n",
       "      <th>19</th>\n",
       "      <td>17.83</td>\n",
       "      <td>7</td>\n",
       "    </tr>\n",
       "    <tr>\n",
       "      <th>20</th>\n",
       "      <td>21.50</td>\n",
       "      <td>5</td>\n",
       "    </tr>\n",
       "  </tbody>\n",
       "</table>\n",
       "</div>"
      ],
      "text/plain": [
       "    Delivery Time  Sorting Time\n",
       "0           21.00            10\n",
       "1           13.50             4\n",
       "2           19.75             6\n",
       "3           24.00             9\n",
       "4           29.00            10\n",
       "5           15.35             6\n",
       "6           19.00             7\n",
       "7            9.50             3\n",
       "8           17.90            10\n",
       "9           18.75             9\n",
       "10          19.83             8\n",
       "11          10.75             4\n",
       "12          16.68             7\n",
       "13          11.50             3\n",
       "14          12.03             3\n",
       "15          14.88             4\n",
       "16          13.75             6\n",
       "17          18.11             7\n",
       "18           8.00             2\n",
       "19          17.83             7\n",
       "20          21.50             5"
      ]
     },
     "execution_count": 3,
     "metadata": {},
     "output_type": "execute_result"
    }
   ],
   "source": [
    "df=pd.read_csv(\"delivery_time.csv\")\n",
    "df"
   ]
  },
  {
   "cell_type": "code",
   "execution_count": 5,
   "id": "d8936394",
   "metadata": {},
   "outputs": [
    {
     "name": "stdout",
     "output_type": "stream",
     "text": [
      "<class 'pandas.core.frame.DataFrame'>\n",
      "RangeIndex: 21 entries, 0 to 20\n",
      "Data columns (total 2 columns):\n",
      " #   Column         Non-Null Count  Dtype  \n",
      "---  ------         --------------  -----  \n",
      " 0   Delivery Time  21 non-null     float64\n",
      " 1   Sorting Time   21 non-null     int64  \n",
      "dtypes: float64(1), int64(1)\n",
      "memory usage: 464.0 bytes\n"
     ]
    }
   ],
   "source": [
    "df.info()"
   ]
  },
  {
   "cell_type": "code",
   "execution_count": 10,
   "id": "01796201",
   "metadata": {},
   "outputs": [
    {
     "data": {
      "text/html": [
       "<div>\n",
       "<style scoped>\n",
       "    .dataframe tbody tr th:only-of-type {\n",
       "        vertical-align: middle;\n",
       "    }\n",
       "\n",
       "    .dataframe tbody tr th {\n",
       "        vertical-align: top;\n",
       "    }\n",
       "\n",
       "    .dataframe thead th {\n",
       "        text-align: right;\n",
       "    }\n",
       "</style>\n",
       "<table border=\"1\" class=\"dataframe\">\n",
       "  <thead>\n",
       "    <tr style=\"text-align: right;\">\n",
       "      <th></th>\n",
       "      <th>Delivery Time</th>\n",
       "      <th>Sorting Time</th>\n",
       "    </tr>\n",
       "  </thead>\n",
       "  <tbody>\n",
       "    <tr>\n",
       "      <th>count</th>\n",
       "      <td>21.000000</td>\n",
       "      <td>21.000000</td>\n",
       "    </tr>\n",
       "    <tr>\n",
       "      <th>mean</th>\n",
       "      <td>16.790952</td>\n",
       "      <td>6.190476</td>\n",
       "    </tr>\n",
       "    <tr>\n",
       "      <th>std</th>\n",
       "      <td>5.074901</td>\n",
       "      <td>2.542028</td>\n",
       "    </tr>\n",
       "    <tr>\n",
       "      <th>min</th>\n",
       "      <td>8.000000</td>\n",
       "      <td>2.000000</td>\n",
       "    </tr>\n",
       "    <tr>\n",
       "      <th>25%</th>\n",
       "      <td>13.500000</td>\n",
       "      <td>4.000000</td>\n",
       "    </tr>\n",
       "    <tr>\n",
       "      <th>50%</th>\n",
       "      <td>17.830000</td>\n",
       "      <td>6.000000</td>\n",
       "    </tr>\n",
       "    <tr>\n",
       "      <th>75%</th>\n",
       "      <td>19.750000</td>\n",
       "      <td>8.000000</td>\n",
       "    </tr>\n",
       "    <tr>\n",
       "      <th>max</th>\n",
       "      <td>29.000000</td>\n",
       "      <td>10.000000</td>\n",
       "    </tr>\n",
       "  </tbody>\n",
       "</table>\n",
       "</div>"
      ],
      "text/plain": [
       "       Delivery Time  Sorting Time\n",
       "count      21.000000     21.000000\n",
       "mean       16.790952      6.190476\n",
       "std         5.074901      2.542028\n",
       "min         8.000000      2.000000\n",
       "25%        13.500000      4.000000\n",
       "50%        17.830000      6.000000\n",
       "75%        19.750000      8.000000\n",
       "max        29.000000     10.000000"
      ]
     },
     "execution_count": 10,
     "metadata": {},
     "output_type": "execute_result"
    }
   ],
   "source": [
    "df.describe()"
   ]
  },
  {
   "cell_type": "markdown",
   "id": "30f5e14e",
   "metadata": {},
   "source": [
    "## Histogram"
   ]
  },
  {
   "cell_type": "code",
   "execution_count": 20,
   "id": "263fc50b",
   "metadata": {},
   "outputs": [
    {
     "data": {
      "text/plain": [
       "Text(0.5, 1.0, 'Delivery time')"
      ]
     },
     "execution_count": 20,
     "metadata": {},
     "output_type": "execute_result"
    },
    {
     "data": {
      "image/png": "[encoded data removed]",
      "text/plain": [
       "<Figure size 1440x720 with 1 Axes>"
      ]
     },
     "metadata": {
      "needs_background": "light"
     },
     "output_type": "display_data"
    }
   ],
   "source": [
    "plt.figure(figsize=(20,10))\n",
    "plt.subplot(2,4,1)\n",
    "plt.hist(df[\"Delivery Time\"],density=False)\n",
    "plt.title(\"Delivery time\")\n"
   ]
  },
  {
   "cell_type": "code",
   "execution_count": 19,
   "id": "e716b0ec",
   "metadata": {},
   "outputs": [
    {
     "data": {
      "text/plain": [
       "Text(0.5, 1.0, 'Sorting Time')"
      ]
     },
     "execution_count": 19,
     "metadata": {},
     "output_type": "execute_result"
    },
    {
     "data": {
      "image/png": "[encoded data removed]",
      "text/plain": [
       "<Figure size 1440x720 with 1 Axes>"
      ]
     },
     "metadata": {
      "needs_background": "light"
     },
     "output_type": "display_data"
    }
   ],
   "source": [
    "plt.figure(figsize=(20,10))\n",
    "plt.subplot(2,4,1)\n",
    "plt.hist(df[\"Sorting Time\"],density=False)\n",
    "plt.title(\"Sorting Time\")\n"
   ]
  },
  {
   "cell_type": "markdown",
   "id": "200a6b04",
   "metadata": {},
   "source": [
    "## Distplot"
   ]
  },
  {
   "cell_type": "code",
   "execution_count": 22,
   "id": "941e2c2c",
   "metadata": {},
   "outputs": [
    {
     "name": "stderr",
     "output_type": "stream",
     "text": [
      "C:\\Users\\ROHIT\\AppData\\Local\\Programs\\Python\\Python310\\lib\\site-packages\\seaborn\\distributions.py:2619: FutureWarning: `distplot` is a deprecated function and will be removed in a future version. Please adapt your code to use either `displot` (a figure-level function with similar flexibility) or `histplot` (an axes-level function for histograms).\n",
      "  warnings.warn(msg, FutureWarning)\n"
     ]
    },
    {
     "data": {
      "text/plain": [
       "Text(0.5, 1.0, 'Delivery Time')"
      ]
     },
     "execution_count": 22,
     "metadata": {},
     "output_type": "execute_result"
    },
    {
     "data": {
      "image/png": "[encoded data removed]",
      "text/plain": [
       "<Figure size 432x288 with 1 Axes>"
      ]
     },
     "metadata": {
      "needs_background": "light"
     },
     "output_type": "display_data"
    }
   ],
   "source": [
    "plt.subplot()\n",
    "sns.distplot(df[\"Delivery Time\"],kde=True)\n",
    "plt.title(\"Delivery Time\")"
   ]
  },
  {
   "cell_type": "code",
   "execution_count": 23,
   "id": "55080bb8",
   "metadata": {},
   "outputs": [
    {
     "name": "stderr",
     "output_type": "stream",
     "text": [
      "C:\\Users\\ROHIT\\AppData\\Local\\Programs\\Python\\Python310\\lib\\site-packages\\seaborn\\distributions.py:2619: FutureWarning: `distplot` is a deprecated function and will be removed in a future version. Please adapt your code to use either `displot` (a figure-level function with similar flexibility) or `histplot` (an axes-level function for histograms).\n",
      "  warnings.warn(msg, FutureWarning)\n"
     ]
    },
    {
     "data": {
      "text/plain": [
       "Text(0.5, 1.0, 'Sorting Time')"
      ]
     },
     "execution_count": 23,
     "metadata": {},
     "output_type": "execute_result"
    },
    {
     "data": {
      "image/png": "[encoded data removed]",
      "text/plain": [
       "<Figure size 432x288 with 1 Axes>"
      ]
     },
     "metadata": {
      "needs_background": "light"
     },
     "output_type": "display_data"
    }
   ],
   "source": [
    "plt.subplot()\n",
    "sns.distplot(df[\"Sorting Time\"],kde=True)\n",
    "plt.title(\"Sorting Time\")"
   ]
  },
  {
   "cell_type": "markdown",
   "id": "f1338182",
   "metadata": {},
   "source": [
    "## Violin Plot"
   ]
  },
  {
   "cell_type": "code",
   "execution_count": 29,
   "id": "beb024c6",
   "metadata": {},
   "outputs": [
    {
     "name": "stderr",
     "output_type": "stream",
     "text": [
      "C:\\Users\\ROHIT\\AppData\\Local\\Programs\\Python\\Python310\\lib\\site-packages\\seaborn\\_decorators.py:36: FutureWarning: Pass the following variable as a keyword arg: x. From version 0.12, the only valid positional argument will be `data`, and passing other arguments without an explicit keyword will result in an error or misinterpretation.\n",
      "  warnings.warn(\n"
     ]
    },
    {
     "data": {
      "text/plain": [
       "Text(0.5, 1.0, 'Deivery Time')"
      ]
     },
     "execution_count": 29,
     "metadata": {},
     "output_type": "execute_result"
    },
    {
     "data": {
      "image/png": "[encoded data removed]",
      "text/plain": [
       "<Figure size 1440x720 with 1 Axes>"
      ]
     },
     "metadata": {
      "needs_background": "light"
     },
     "output_type": "display_data"
    }
   ],
   "source": [
    "plt.figure(figsize=(20,10))\n",
    "plt.subplot(2,4,3)\n",
    "sns.violinplot(df[\"Delivery Time\"])\n",
    "plt.title(\"Deivery Time\")"
   ]
  },
  {
   "cell_type": "code",
   "execution_count": 30,
   "id": "197fa1a4",
   "metadata": {},
   "outputs": [
    {
     "name": "stderr",
     "output_type": "stream",
     "text": [
      "C:\\Users\\ROHIT\\AppData\\Local\\Programs\\Python\\Python310\\lib\\site-packages\\seaborn\\_decorators.py:36: FutureWarning: Pass the following variable as a keyword arg: x. From version 0.12, the only valid positional argument will be `data`, and passing other arguments without an explicit keyword will result in an error or misinterpretation.\n",
      "  warnings.warn(\n"
     ]
    },
    {
     "data": {
      "text/plain": [
       "Text(0.5, 1.0, 'Sorting Time')"
      ]
     },
     "execution_count": 30,
     "metadata": {},
     "output_type": "execute_result"
    },
    {
     "data": {
      "image/png": "[encoded data removed]",
      "text/plain": [
       "<Figure size 1440x720 with 1 Axes>"
      ]
     },
     "metadata": {
      "needs_background": "light"
     },
     "output_type": "display_data"
    }
   ],
   "source": [
    "plt.figure(figsize=(20,10))\n",
    "plt.subplot(2,4,3)\n",
    "sns.violinplot(df[\"Sorting Time\"])\n",
    "plt.title(\"Sorting Time\")"
   ]
  },
  {
   "cell_type": "markdown",
   "id": "96049b63",
   "metadata": {},
   "source": [
    "## Probplot"
   ]
  },
  {
   "cell_type": "code",
   "execution_count": 38,
   "id": "e1176af5",
   "metadata": {},
   "outputs": [
    {
     "data": {
      "text/plain": [
       "Text(0.5, 1.0, 'Delivery Time')"
      ]
     },
     "execution_count": 38,
     "metadata": {},
     "output_type": "execute_result"
    },
    {
     "data": {
      "image/png": "[encoded data removed]",
      "text/plain": [
       "<Figure size 1440x720 with 1 Axes>"
      ]
     },
     "metadata": {
      "needs_background": "light"
     },
     "output_type": "display_data"
    }
   ],
   "source": [
    "plt.figure(figsize=(20,10))\n",
    "plt.subplot(2,4,4)\n",
    "probplot(df[\"Delivery Time\"],plot=plt)\n",
    "plt.title(\"Delivery Time\")"
   ]
  },
  {
   "cell_type": "code",
   "execution_count": 39,
   "id": "d58714bf",
   "metadata": {},
   "outputs": [
    {
     "data": {
      "text/plain": [
       "Text(0.5, 1.0, 'Sorting Time')"
      ]
     },
     "execution_count": 39,
     "metadata": {},
     "output_type": "execute_result"
    },
    {
     "data": {
      "image/png": "[encoded data removed]",
      "text/plain": [
       "<Figure size 1440x720 with 1 Axes>"
      ]
     },
     "metadata": {
      "needs_background": "light"
     },
     "output_type": "display_data"
    }
   ],
   "source": [
    "plt.figure(figsize=(20,10))\n",
    "plt.subplot(2,4,4)\n",
    "probplot(df[\"Sorting Time\"],plot=plt)\n",
    "plt.title(\"Sorting Time\")"
   ]
  },
  {
   "cell_type": "markdown",
   "id": "42b4c008",
   "metadata": {},
   "source": [
    "from above graphs we can tell there is no outlier in data but the delivery time is not normally distrubuted but in order to check it we can perform the Shapiro Test"
   ]
  },
  {
   "cell_type": "markdown",
   "id": "1f3da6e2",
   "metadata": {},
   "source": [
    "## Hypothesis Testing"
   ]
  },
  {
   "cell_type": "code",
   "execution_count": 40,
   "id": "adc8d9bf",
   "metadata": {},
   "outputs": [],
   "source": [
    "Ho=\"Data Is Norma\"\n",
    "Ha=\"Data Is not Normal\""
   ]
  },
  {
   "cell_type": "code",
   "execution_count": 42,
   "id": "76d76e8b",
   "metadata": {},
   "outputs": [
    {
     "name": "stdout",
     "output_type": "stream",
     "text": [
      "Shapiro Test forDelivery Time\n",
      "ShapiroResult(statistic=0.9781284928321838, pvalue=0.8963273763656616)\n",
      "pValue=0.9>0.05. we Failed to reject the Null Hypothesis. Data Is Norma\n",
      "Shapiro Test forSorting Time\n",
      "ShapiroResult(statistic=0.9367821216583252, pvalue=0.1881045252084732)\n",
      "pValue=0.19>0.05. we Failed to reject the Null Hypothesis. Data Is Norma\n"
     ]
    },
    {
     "name": "stderr",
     "output_type": "stream",
     "text": [
      "C:\\Users\\ROHIT\\AppData\\Local\\Temp\\ipykernel_16560\\2260223600.py:3: FutureWarning: iteritems is deprecated and will be removed in a future version. Use .items instead.\n",
      "  for columnName,columnData in df.iteritems():\n"
     ]
    }
   ],
   "source": [
    "alpha=0.05\n",
    "def normality_check(df):\n",
    "    for columnName,columnData in df.iteritems():\n",
    "        print(\"Shapiro Test for{columnName}\".format(columnName=columnName))\n",
    "        res=stats.shapiro(columnData)\n",
    "        print(res)\n",
    "        \n",
    "        pValue=round(res[1],2)\n",
    "        \n",
    "        if pValue >alpha:\n",
    "            print(\"pValue={pValue}>{alpha}. we Failed to reject the Null Hypothesis. {Ho}\".format(pValue=pValue,alpha=alpha,Ho=Ho))\n",
    "        else:\n",
    "            print(\"pValue={pValue}<{alpha}. we  reject the Null Hypothesis. {Ha}\".format(pValue=pValue,alpha=alpha,Ha=Ha))\n",
    "\n",
    "normality_check(df)           "
   ]
  },
  {
   "cell_type": "markdown",
   "id": "13f62bdf",
   "metadata": {},
   "source": [
    "# Line Plot"
   ]
  },
  {
   "cell_type": "code",
   "execution_count": 43,
   "id": "bbfd7511",
   "metadata": {},
   "outputs": [
    {
     "data": {
      "text/plain": [
       "Text(0.5, 1.0, 'Line Plot')"
      ]
     },
     "execution_count": 43,
     "metadata": {},
     "output_type": "execute_result"
    },
    {
     "data": {
      "image/png": "[encoded data removed]",
      "text/plain": [
       "<Figure size 1440x720 with 1 Axes>"
      ]
     },
     "metadata": {
      "needs_background": "light"
     },
     "output_type": "display_data"
    }
   ],
   "source": [
    "plt.figure(figsize=(20,10))\n",
    "sns.lineplot(data=df,x=\"Delivery Time\",y=\"Sorting Time\",hue=\"Sorting Time\",alpha=0.6)\n",
    "plt.title(\"Line Plot\")"
   ]
  },
  {
   "cell_type": "markdown",
   "id": "6bf46c3e",
   "metadata": {},
   "source": [
    "## Heat Map"
   ]
  },
  {
   "cell_type": "code",
   "execution_count": 45,
   "id": "4da22253",
   "metadata": {},
   "outputs": [
    {
     "data": {
      "text/plain": [
       "Text(0.5, 1.0, 'Heat_Map')"
      ]
     },
     "execution_count": 45,
     "metadata": {},
     "output_type": "execute_result"
    },
    {
     "data": {
      "image/png": "[encoded data removed]",
      "text/plain": [
       "<Figure size 1440x720 with 2 Axes>"
      ]
     },
     "metadata": {
      "needs_background": "light"
     },
     "output_type": "display_data"
    }
   ],
   "source": [
    "plt.figure(figsize=(20,10))\n",
    "sns.heatmap(data=df,cmap=\"RdYlBu\",annot=True)\n",
    "plt.title(\"Heat_Map\")"
   ]
  },
  {
   "cell_type": "code",
   "execution_count": 46,
   "id": "bc5fc243",
   "metadata": {},
   "outputs": [
    {
     "data": {
      "text/plain": [
       "<AxesSubplot:>"
      ]
     },
     "execution_count": 46,
     "metadata": {},
     "output_type": "execute_result"
    },
    {
     "data": {
      "image/png": "[encoded data removed]",
      "text/plain": [
       "<Figure size 432x288 with 2 Axes>"
      ]
     },
     "metadata": {
      "needs_background": "light"
     },
     "output_type": "display_data"
    }
   ],
   "source": [
    "sns.heatmap(df.corr(),annot=True)"
   ]
  },
  {
   "cell_type": "markdown",
   "id": "8e230fd6",
   "metadata": {},
   "source": [
    "medium low positive correlation"
   ]
  },
  {
   "cell_type": "markdown",
   "id": "b2a4c8b2",
   "metadata": {},
   "source": [
    "## Normalization"
   ]
  },
  {
   "cell_type": "code",
   "execution_count": 54,
   "id": "d70246c7",
   "metadata": {},
   "outputs": [
    {
     "data": {
      "text/html": [
       "<div>\n",
       "<style scoped>\n",
       "    .dataframe tbody tr th:only-of-type {\n",
       "        vertical-align: middle;\n",
       "    }\n",
       "\n",
       "    .dataframe tbody tr th {\n",
       "        vertical-align: top;\n",
       "    }\n",
       "\n",
       "    .dataframe thead th {\n",
       "        text-align: right;\n",
       "    }\n",
       "</style>\n",
       "<table border=\"1\" class=\"dataframe\">\n",
       "  <thead>\n",
       "    <tr style=\"text-align: right;\">\n",
       "      <th></th>\n",
       "      <th>Delivery Time</th>\n",
       "      <th>Sorting Time</th>\n",
       "      <th>Sorting Tiime</th>\n",
       "    </tr>\n",
       "  </thead>\n",
       "  <tbody>\n",
       "    <tr>\n",
       "      <th>0</th>\n",
       "      <td>0.261770</td>\n",
       "      <td>10</td>\n",
       "      <td>0.327210</td>\n",
       "    </tr>\n",
       "    <tr>\n",
       "      <th>1</th>\n",
       "      <td>0.168281</td>\n",
       "      <td>4</td>\n",
       "      <td>0.130884</td>\n",
       "    </tr>\n",
       "    <tr>\n",
       "      <th>2</th>\n",
       "      <td>0.246188</td>\n",
       "      <td>6</td>\n",
       "      <td>0.196326</td>\n",
       "    </tr>\n",
       "    <tr>\n",
       "      <th>3</th>\n",
       "      <td>0.299166</td>\n",
       "      <td>9</td>\n",
       "      <td>0.294489</td>\n",
       "    </tr>\n",
       "    <tr>\n",
       "      <th>4</th>\n",
       "      <td>0.361492</td>\n",
       "      <td>10</td>\n",
       "      <td>0.327210</td>\n",
       "    </tr>\n",
       "  </tbody>\n",
       "</table>\n",
       "</div>"
      ],
      "text/plain": [
       "   Delivery Time  Sorting Time  Sorting Tiime\n",
       "0       0.261770            10       0.327210\n",
       "1       0.168281             4       0.130884\n",
       "2       0.246188             6       0.196326\n",
       "3       0.299166             9       0.294489\n",
       "4       0.361492            10       0.327210"
      ]
     },
     "execution_count": 54,
     "metadata": {},
     "output_type": "execute_result"
    }
   ],
   "source": [
    "df[\"Delivery Time\"]=preprocessing.normalize(df[[\"Delivery Time\"]],axis=0)\n",
    "df[\"Sorting Tiime\"]=preprocessing.normalize(df[[\"Sorting Time\"]],axis=0)\n",
    "df.head()"
   ]
  },
  {
   "cell_type": "markdown",
   "id": "a7be0f45",
   "metadata": {},
   "source": [
    "## SLR by "
   ]
  },
  {
   "cell_type": "code",
   "execution_count": 78,
   "id": "e5852967",
   "metadata": {},
   "outputs": [
    {
     "name": "stdout",
     "output_type": "stream",
     "text": [
      "nConfidence interval:n                      0         1\n",
      "const         0.037136  0.126975\n",
      "Sorting Time  0.013820  0.027291\n",
      "nModel parameters:n const           0.082055\n",
      "Sorting Time    0.020555\n",
      "dtype: float64\n",
      "                            OLS Regression Results                            \n",
      "==============================================================================\n",
      "Dep. Variable:          Delivery Time   R-squared:                       0.682\n",
      "Model:                            OLS   Adj. R-squared:                  0.666\n",
      "Method:                 Least Squares   F-statistic:                     40.80\n",
      "Date:                Mon, 20 Feb 2023   Prob (F-statistic):           3.98e-06\n",
      "Time:                        12:00:51   Log-Likelihood:                 40.724\n",
      "No. Observations:                  21   AIC:                            -77.45\n",
      "Df Residuals:                      19   BIC:                            -75.36\n",
      "Df Model:                           1                                         \n",
      "Covariance Type:            nonrobust                                         \n",
      "================================================================================\n",
      "                   coef    std err          t      P>|t|      [0.025      0.975]\n",
      "--------------------------------------------------------------------------------\n",
      "const            0.0821      0.021      3.823      0.001       0.037       0.127\n",
      "Sorting Time     0.0206      0.003      6.387      0.000       0.014       0.027\n",
      "==============================================================================\n",
      "Omnibus:                        3.649   Durbin-Watson:                   1.248\n",
      "Prob(Omnibus):                  0.161   Jarque-Bera (JB):                2.086\n",
      "Skew:                           0.750   Prob(JB):                        0.352\n",
      "Kurtosis:                       3.367   Cond. No.                         18.3\n",
      "==============================================================================\n",
      "\n",
      "Notes:\n",
      "[1] Standard Errors assume that the covariance matrix of the errors is correctly specified.\n"
     ]
    }
   ],
   "source": [
    "\n",
    "def OLS_model(df):\n",
    "    \n",
    "    x = df.iloc[:, 1:2]\n",
    "    y = df.iloc[:, 0:1] \n",
    "    \n",
    "    x = sm.add_constant(x)\n",
    "\n",
    "    model = sm.OLS(y, x)\n",
    "   \n",
    "    results = model.fit()\n",
    "    print('n'+\"Confidence interval:\"+'n', results.conf_int(alpha=0.05, cols=None)) \n",
    "    print('n'\"Model parameters:\"+'n',results.params)\n",
    "    \n",
    "    print(results.summary())\n",
    "    \n",
    "\n",
    "OLS_model(df[['Delivery Time', 'Sorting Time']])\n"
   ]
  },
  {
   "cell_type": "markdown",
   "id": "53035d28",
   "metadata": {},
   "source": [
    "## Linear Regression Via statsmodel.formula.api (SMF)"
   ]
  },
  {
   "cell_type": "code",
   "execution_count": 88,
   "id": "0a8db8c6",
   "metadata": {},
   "outputs": [
    {
     "data": {
      "text/html": [
       "<div>\n",
       "<style scoped>\n",
       "    .dataframe tbody tr th:only-of-type {\n",
       "        vertical-align: middle;\n",
       "    }\n",
       "\n",
       "    .dataframe tbody tr th {\n",
       "        vertical-align: top;\n",
       "    }\n",
       "\n",
       "    .dataframe thead th {\n",
       "        text-align: right;\n",
       "    }\n",
       "</style>\n",
       "<table border=\"1\" class=\"dataframe\">\n",
       "  <thead>\n",
       "    <tr style=\"text-align: right;\">\n",
       "      <th></th>\n",
       "      <th>DT</th>\n",
       "      <th>ST</th>\n",
       "      <th>Sorting Tiime</th>\n",
       "    </tr>\n",
       "  </thead>\n",
       "  <tbody>\n",
       "    <tr>\n",
       "      <th>0</th>\n",
       "      <td>0.261770</td>\n",
       "      <td>10</td>\n",
       "      <td>0.327210</td>\n",
       "    </tr>\n",
       "    <tr>\n",
       "      <th>1</th>\n",
       "      <td>0.168281</td>\n",
       "      <td>4</td>\n",
       "      <td>0.130884</td>\n",
       "    </tr>\n",
       "    <tr>\n",
       "      <th>2</th>\n",
       "      <td>0.246188</td>\n",
       "      <td>6</td>\n",
       "      <td>0.196326</td>\n",
       "    </tr>\n",
       "    <tr>\n",
       "      <th>3</th>\n",
       "      <td>0.299166</td>\n",
       "      <td>9</td>\n",
       "      <td>0.294489</td>\n",
       "    </tr>\n",
       "    <tr>\n",
       "      <th>4</th>\n",
       "      <td>0.361492</td>\n",
       "      <td>10</td>\n",
       "      <td>0.327210</td>\n",
       "    </tr>\n",
       "    <tr>\n",
       "      <th>5</th>\n",
       "      <td>0.191341</td>\n",
       "      <td>6</td>\n",
       "      <td>0.196326</td>\n",
       "    </tr>\n",
       "    <tr>\n",
       "      <th>6</th>\n",
       "      <td>0.236839</td>\n",
       "      <td>7</td>\n",
       "      <td>0.229047</td>\n",
       "    </tr>\n",
       "    <tr>\n",
       "      <th>7</th>\n",
       "      <td>0.118420</td>\n",
       "      <td>3</td>\n",
       "      <td>0.098163</td>\n",
       "    </tr>\n",
       "    <tr>\n",
       "      <th>8</th>\n",
       "      <td>0.223128</td>\n",
       "      <td>10</td>\n",
       "      <td>0.327210</td>\n",
       "    </tr>\n",
       "    <tr>\n",
       "      <th>9</th>\n",
       "      <td>0.233723</td>\n",
       "      <td>9</td>\n",
       "      <td>0.294489</td>\n",
       "    </tr>\n",
       "    <tr>\n",
       "      <th>10</th>\n",
       "      <td>0.247186</td>\n",
       "      <td>8</td>\n",
       "      <td>0.261768</td>\n",
       "    </tr>\n",
       "    <tr>\n",
       "      <th>11</th>\n",
       "      <td>0.134001</td>\n",
       "      <td>4</td>\n",
       "      <td>0.130884</td>\n",
       "    </tr>\n",
       "    <tr>\n",
       "      <th>12</th>\n",
       "      <td>0.207920</td>\n",
       "      <td>7</td>\n",
       "      <td>0.229047</td>\n",
       "    </tr>\n",
       "    <tr>\n",
       "      <th>13</th>\n",
       "      <td>0.143350</td>\n",
       "      <td>3</td>\n",
       "      <td>0.098163</td>\n",
       "    </tr>\n",
       "    <tr>\n",
       "      <th>14</th>\n",
       "      <td>0.149957</td>\n",
       "      <td>3</td>\n",
       "      <td>0.098163</td>\n",
       "    </tr>\n",
       "    <tr>\n",
       "      <th>15</th>\n",
       "      <td>0.185483</td>\n",
       "      <td>4</td>\n",
       "      <td>0.130884</td>\n",
       "    </tr>\n",
       "    <tr>\n",
       "      <th>16</th>\n",
       "      <td>0.171397</td>\n",
       "      <td>6</td>\n",
       "      <td>0.196326</td>\n",
       "    </tr>\n",
       "    <tr>\n",
       "      <th>17</th>\n",
       "      <td>0.225745</td>\n",
       "      <td>7</td>\n",
       "      <td>0.229047</td>\n",
       "    </tr>\n",
       "    <tr>\n",
       "      <th>18</th>\n",
       "      <td>0.099722</td>\n",
       "      <td>2</td>\n",
       "      <td>0.065442</td>\n",
       "    </tr>\n",
       "    <tr>\n",
       "      <th>19</th>\n",
       "      <td>0.222255</td>\n",
       "      <td>7</td>\n",
       "      <td>0.229047</td>\n",
       "    </tr>\n",
       "    <tr>\n",
       "      <th>20</th>\n",
       "      <td>0.268003</td>\n",
       "      <td>5</td>\n",
       "      <td>0.163605</td>\n",
       "    </tr>\n",
       "  </tbody>\n",
       "</table>\n",
       "</div>"
      ],
      "text/plain": [
       "          DT  ST  Sorting Tiime\n",
       "0   0.261770  10       0.327210\n",
       "1   0.168281   4       0.130884\n",
       "2   0.246188   6       0.196326\n",
       "3   0.299166   9       0.294489\n",
       "4   0.361492  10       0.327210\n",
       "5   0.191341   6       0.196326\n",
       "6   0.236839   7       0.229047\n",
       "7   0.118420   3       0.098163\n",
       "8   0.223128  10       0.327210\n",
       "9   0.233723   9       0.294489\n",
       "10  0.247186   8       0.261768\n",
       "11  0.134001   4       0.130884\n",
       "12  0.207920   7       0.229047\n",
       "13  0.143350   3       0.098163\n",
       "14  0.149957   3       0.098163\n",
       "15  0.185483   4       0.130884\n",
       "16  0.171397   6       0.196326\n",
       "17  0.225745   7       0.229047\n",
       "18  0.099722   2       0.065442\n",
       "19  0.222255   7       0.229047\n",
       "20  0.268003   5       0.163605"
      ]
     },
     "execution_count": 88,
     "metadata": {},
     "output_type": "execute_result"
    }
   ],
   "source": [
    "df.rename(columns={\"Delivery Time\":\"DT\",\"Sorting Time\":\"ST\"},inplace=True)\n",
    "df"
   ]
  },
  {
   "cell_type": "code",
   "execution_count": 89,
   "id": "47812f9f",
   "metadata": {},
   "outputs": [
    {
     "name": "stdout",
     "output_type": "stream",
     "text": [
      "    ST\n",
      "0   10\n",
      "1    4\n",
      "2    6\n",
      "3    9\n",
      "4   10\n",
      "5    6\n",
      "6    7\n",
      "7    3\n",
      "8   10\n",
      "9    9\n",
      "10   8\n",
      "11   4\n",
      "12   7\n",
      "13   3\n",
      "14   3\n",
      "15   4\n",
      "16   6\n",
      "17   7\n",
      "18   2\n",
      "19   7\n",
      "20   5           DT\n",
      "0   0.261770\n",
      "1   0.168281\n",
      "2   0.246188\n",
      "3   0.299166\n",
      "4   0.361492\n",
      "5   0.191341\n",
      "6   0.236839\n",
      "7   0.118420\n",
      "8   0.223128\n",
      "9   0.233723\n",
      "10  0.247186\n",
      "11  0.134001\n",
      "12  0.207920\n",
      "13  0.143350\n",
      "14  0.149957\n",
      "15  0.185483\n",
      "16  0.171397\n",
      "17  0.225745\n",
      "18  0.099722\n",
      "19  0.222255\n",
      "20  0.268003\n",
      "                            OLS Regression Results                            \n",
      "==============================================================================\n",
      "Dep. Variable:                      y   R-squared:                       0.682\n",
      "Model:                            OLS   Adj. R-squared:                  0.666\n",
      "Method:                 Least Squares   F-statistic:                     40.80\n",
      "Date:                Mon, 20 Feb 2023   Prob (F-statistic):           3.98e-06\n",
      "Time:                        12:15:23   Log-Likelihood:                 40.724\n",
      "No. Observations:                  21   AIC:                            -77.45\n",
      "Df Residuals:                      19   BIC:                            -75.36\n",
      "Df Model:                           1                                         \n",
      "Covariance Type:            nonrobust                                         \n",
      "==============================================================================\n",
      "                 coef    std err          t      P>|t|      [0.025      0.975]\n",
      "------------------------------------------------------------------------------\n",
      "Intercept      0.0821      0.021      3.823      0.001       0.037       0.127\n",
      "x              0.0206      0.003      6.387      0.000       0.014       0.027\n",
      "==============================================================================\n",
      "Omnibus:                        3.649   Durbin-Watson:                   1.248\n",
      "Prob(Omnibus):                  0.161   Jarque-Bera (JB):                2.086\n",
      "Skew:                           0.750   Prob(JB):                        0.352\n",
      "Kurtosis:                       3.367   Cond. No.                         18.3\n",
      "==============================================================================\n",
      "\n",
      "Notes:\n",
      "[1] Standard Errors assume that the covariance matrix of the errors is correctly specified.\n",
      "          DT\n",
      "0   0.261770\n",
      "1   0.168281\n",
      "2   0.246188\n",
      "3   0.299166\n",
      "4   0.361492\n",
      "5   0.191341\n",
      "6   0.236839\n",
      "7   0.118420\n",
      "8   0.223128\n",
      "9   0.233723\n",
      "10  0.247186\n",
      "11  0.134001\n",
      "12  0.207920\n",
      "13  0.143350\n",
      "14  0.149957\n",
      "15  0.185483\n",
      "16  0.171397\n",
      "17  0.225745\n",
      "18  0.099722\n",
      "19  0.222255\n",
      "20  0.268003 0     0.287609\n",
      "1     0.164277\n",
      "2     0.205388\n",
      "3     0.267054\n",
      "4     0.287609\n",
      "5     0.205388\n",
      "6     0.225943\n",
      "7     0.143722\n",
      "8     0.287609\n",
      "9     0.267054\n",
      "10    0.246499\n",
      "11    0.164277\n",
      "12    0.225943\n",
      "13    0.143722\n",
      "14    0.143722\n",
      "15    0.164277\n",
      "16    0.205388\n",
      "17    0.225943\n",
      "18    0.123166\n",
      "19    0.225943\n",
      "20    0.184832\n",
      "dtype: float64\n",
      "[0.26176990095675656, 0.1682806506150578, 0.2461883592331401, 0.2991656010934361, 0.36149176798790195, 0.19134133236601017, 0.23683943419897024, 0.11841971709948512, 0.22312767748218773, 0.23372312585424693, 0.24718557790345155, 0.13400125882310157, 0.20792009275993809, 0.14335018385727147, 0.14995675754808482, 0.1854826726779304, 0.17139695895978108, 0.2257453764917553, 0.09972186703114536, 0.2222551111456652, 0.26800251764620314]\n",
      "[[0.26176990095675656, 0.1682806506150578, 0.2461883592331401, 0.2991656010934361, 0.36149176798790195, 0.19134133236601017, 0.23683943419897024, 0.11841971709948512, 0.22312767748218773, 0.23372312585424693, 0.24718557790345155, 0.13400125882310157, 0.20792009275993809, 0.14335018385727147, 0.14995675754808482, 0.1854826726779304, 0.17139695895978108, 0.2257453764917553, 0.09972186703114536, 0.2222551111456652, 0.26800251764620314], [0.28760949383650986, 0.16427698667387097, 0.2053878223947506, 0.26705407597607006, 0.28760949383650986, 0.2053878223947506, 0.22594324025519041, 0.14372156881343115, 0.28760949383650986, 0.26705407597607006, 0.2464986581156302, 0.16427698667387097, 0.22594324025519041, 0.14372156881343115, 0.14372156881343115, 0.16427698667387097, 0.2053878223947506, 0.22594324025519041, 0.12316615095299133, 0.22594324025519041, 0.18483240453431077]]\n",
      "     Actuals  Predicted\n",
      "0   0.261770   0.287609\n",
      "1   0.168281   0.164277\n",
      "2   0.246188   0.205388\n",
      "3   0.299166   0.267054\n",
      "4   0.361492   0.287609\n",
      "5   0.191341   0.205388\n",
      "6   0.236839   0.225943\n",
      "7   0.118420   0.143722\n",
      "8   0.223128   0.287609\n",
      "9   0.233723   0.267054\n",
      "10  0.247186   0.246499\n",
      "11  0.134001   0.164277\n",
      "12  0.207920   0.225943\n",
      "13  0.143350   0.143722\n",
      "14  0.149957   0.143722\n",
      "15  0.185483   0.164277\n",
      "16  0.171397   0.205388\n",
      "17  0.225745   0.225943\n",
      "18  0.099722   0.123166\n",
      "19  0.222255   0.225943\n",
      "20  0.268003   0.184832\n"
     ]
    },
    {
     "data": {
      "image/png": "[encoded data removed]",
      "text/plain": [
       "<Figure size 432x288 with 1 Axes>"
      ]
     },
     "metadata": {
      "needs_background": "light"
     },
     "output_type": "display_data"
    },
    {
     "data": {
      "image/png": "[encoded data removed]",
      "text/plain": [
       "<Figure size 720x432 with 1 Axes>"
      ]
     },
     "metadata": {
      "needs_background": "light"
     },
     "output_type": "display_data"
    }
   ],
   "source": [
    "def smf_ols(df):\n",
    "    \n",
    "    x=df.iloc[:,1:2]\n",
    "    y=df.iloc[:,0:1]\n",
    "    \n",
    "    print(x,y)\n",
    "    \n",
    "    model=smf.ols('y~x',data=df).fit()\n",
    "    print(model.summary())\n",
    "    \n",
    "    y_pred=model.predict(x)\n",
    "    print(y,y_pred)\n",
    "    \n",
    "    y_lst=y.DT.values.tolist()\n",
    "    y_pred_lst=y_pred.tolist()\n",
    "    print(y_lst)\n",
    "        \n",
    "    data=[y_lst,y_pred_lst]\n",
    "    print(data)\n",
    "    \n",
    "    res=pd.DataFrame({'Actuals':data[0],\"Predicted\":data[1]})\n",
    "    print(res)\n",
    "    \n",
    "    plt.scatter(x=res['Actuals'],y=res['Predicted'])\n",
    "    plt.ylabel('Predicted')\n",
    "    plt.xlabel('Actuals')\n",
    "    \n",
    "    res.plot(kind=\"bar\",figsize=(10,6))\n",
    "\n",
    "smf_ols(df[[\"DT\",\"ST\"]])"
   ]
  },
  {
   "cell_type": "code",
   "execution_count": null,
   "id": "9997c115",
   "metadata": {},
   "outputs": [],
   "source": []
  }
 ],
 "metadata": {
  "kernelspec": {
   "display_name": "Python 3 (ipykernel)",
   "language": "python",
   "name": "python3"
  },
  "language_info": {
   "codemirror_mode": {
    "name": "ipython",
    "version": 3
   },
   "file_extension": ".py",
   "mimetype": "text/x-python",
   "name": "python",
   "nbconvert_exporter": "python",
   "pygments_lexer": "ipython3",
   "version": "3.10.4"
  }
 },
 "nbformat": 4,
 "nbformat_minor": 5
}
