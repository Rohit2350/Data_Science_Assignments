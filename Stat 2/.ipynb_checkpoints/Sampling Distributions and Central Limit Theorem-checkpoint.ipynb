{
 "cells": [
  {
   "cell_type": "markdown",
   "id": "0c1601c5",
   "metadata": {},
   "source": [
    "# Sampling Distributions and Central Limit Theorem"
   ]
  },
  {
   "cell_type": "markdown",
   "id": "75b9f488",
   "metadata": {},
   "source": [
    "## Question 1"
   ]
  },
  {
   "cell_type": "markdown",
   "id": "17c816b0",
   "metadata": {},
   "source": [
    "**Examine the following normal Quantile plots carefully. Which of these plots indicates that the data**"
   ]
  },
  {
   "cell_type": "markdown",
   "id": "e72dd1e4",
   "metadata": {},
   "source": [
    "**I.\tAre nearly normal?**  **Answer-C**\n",
    "> **II.\tHave a bimodal distribution? (One way to recognize a bimodal shape is a “gap” in the spacing of adjacent data values.)** **Answer-B**\n",
    ">>**III. Are skewed (i.e. not symmetric) ?** **Answer-A,C,D**\n",
    ">>> **IV. Have outliers on both sides of the center?** **Answer-A**\n"
   ]
  },
  {
   "cell_type": "markdown",
   "id": "f45147d8",
   "metadata": {},
   "source": [
    "***"
   ]
  },
  {
   "cell_type": "markdown",
   "id": "5d0a3e35",
   "metadata": {},
   "source": [
    "## Question 2"
   ]
  },
  {
   "cell_type": "markdown",
   "id": "1b69e913",
   "metadata": {},
   "source": [
    "**For each of the following statements, indicate whether it is True/False. If false, explain why.The manager of a warehouse monitors the volume of shipments made by the delivery team. The automated tracking system tracks every package as it moves through the facility. A sample of 25 packages is selected and weighed every day. Based on current contracts with customers, the weights should have μ = 22 lbs. and σ = 5 lbs.**"
   ]
  },
  {
   "cell_type": "markdown",
   "id": "831bfa98",
   "metadata": {},
   "source": [
    "**True**\n",
    "> A sampling Distrubution is a probablity that describes how  statistic such as mean ,varies from the sample"
   ]
  },
  {
   "cell_type": "markdown",
   "id": "1c6d78b1",
   "metadata": {},
   "source": [
    "***"
   ]
  },
  {
   "cell_type": "markdown",
   "id": "67935377",
   "metadata": {},
   "source": [
    "## Question 3"
   ]
  },
  {
   "cell_type": "markdown",
   "id": "e0968e72",
   "metadata": {},
   "source": [
    "**3.\tAuditors at a small community bank randomly sample 100 withdrawal transactions made during the week at an ATM machine located near the bank’s main branch. Over the past 2 years, the average withdrawal amount has been $50 with a standard deviation of $40. Since audit investigations are typically expensive, the auditors decide to not initiate further investigations if the mean transaction amount of the sample is between $45 and $55. What is the probability that in any given week, there will be an investigation?**"
   ]
  },
  {
   "cell_type": "code",
   "execution_count": 2,
   "id": "7122304c",
   "metadata": {},
   "outputs": [],
   "source": [
    "import numpy as np\n",
    "from scipy import stats\n",
    "from scipy.stats import norm"
   ]
  },
  {
   "cell_type": "markdown",
   "id": "a06da54a",
   "metadata": {},
   "source": [
    "n=100, Pop Mean=50, Pop SD=40 As no. of samples is more than 30, we can consider it normal distribution"
   ]
  },
  {
   "cell_type": "code",
   "execution_count": 3,
   "id": "cf896dff",
   "metadata": {},
   "outputs": [
    {
     "data": {
      "text/plain": [
       "-1.25"
      ]
     },
     "execution_count": 3,
     "metadata": {},
     "output_type": "execute_result"
    }
   ],
   "source": [
    "# find z-scores at x=45; z=(s_mean-P_mean)/(p_SD/sqrt(n))\n",
    "z=(45-50)/(40/100**0.5)\n",
    "z"
   ]
  },
  {
   "cell_type": "code",
   "execution_count": 4,
   "id": "70df01dc",
   "metadata": {},
   "outputs": [
    {
     "data": {
      "text/plain": [
       "1.25"
      ]
     },
     "execution_count": 4,
     "metadata": {},
     "output_type": "execute_result"
    }
   ],
   "source": [
    "# find z-scores at x=55; z=(s_mean-P_mean)/(p_SD/sqrt(n))\n",
    "z=(55-50)/(40/100**0.5)\n",
    "z"
   ]
  },
  {
   "cell_type": "code",
   "execution_count": 5,
   "id": "e35f7641",
   "metadata": {},
   "outputs": [
    {
     "data": {
      "text/plain": [
       "0.7887004526662893"
      ]
     },
     "execution_count": 5,
     "metadata": {},
     "output_type": "execute_result"
    }
   ],
   "source": [
    "# For No investigation P(45<X<55) using z_scores = P(X<50)-P(X<45)\n",
    "stats.norm.cdf(1.25)-stats.norm.cdf(-1.25)"
   ]
  },
  {
   "cell_type": "code",
   "execution_count": 6,
   "id": "ad9366f1",
   "metadata": {},
   "outputs": [
    {
     "data": {
      "text/plain": [
       "(45.00000495667348, 54.99999504332652)"
      ]
     },
     "execution_count": 6,
     "metadata": {},
     "output_type": "execute_result"
    }
   ],
   "source": [
    "stats.norm.interval(0.7887,loc=50,scale=40/(100**0.5))"
   ]
  },
  {
   "cell_type": "code",
   "execution_count": 7,
   "id": "e171f7ba",
   "metadata": {},
   "outputs": [
    {
     "data": {
      "text/plain": [
       "0.21130000000000004"
      ]
     },
     "execution_count": 7,
     "metadata": {},
     "output_type": "execute_result"
    }
   ],
   "source": [
    "# For Investigation 1-P(45<X<55)\n",
    "1-0.7887"
   ]
  },
  {
   "cell_type": "markdown",
   "id": "0b84523b",
   "metadata": {},
   "source": [
    "**Answer is D ie. 21.1%**"
   ]
  },
  {
   "cell_type": "markdown",
   "id": "376ac140",
   "metadata": {},
   "source": [
    "****"
   ]
  },
  {
   "cell_type": "markdown",
   "id": "e28769c0",
   "metadata": {},
   "source": [
    "## Question 4"
   ]
  },
  {
   "cell_type": "markdown",
   "id": "372b165e",
   "metadata": {},
   "source": [
    "**4.\tThe auditors from the above example would like to maintain the probability of investigation to 5%. Which of the following represents the minimum number transactions that they should sample if they do not want to change the thresholds of 45 and 55? Assume that the sample statistics remain unchanged.**\n",
    "> **196**"
   ]
  },
  {
   "cell_type": "markdown",
   "id": "08418b0c",
   "metadata": {},
   "source": [
    "***"
   ]
  },
  {
   "cell_type": "markdown",
   "id": "ee96a96b",
   "metadata": {},
   "source": [
    "## Question 5"
   ]
  },
  {
   "cell_type": "markdown",
   "id": "8749fffa",
   "metadata": {},
   "source": [
    "**5.\tAn educational startup that helps MBA aspirants write their essays is targeting individuals who have taken GMAT in 2012 and have expressed interest in applying to FT top 20 b-schools. There are 40000 such individuals with an average GMAT score of 720 and a standard deviation of 120. The scores are distributed between 650 and 790 with a very long and thin tail towards the higher end resulting in substantial skewness. Which of the following is likely to be true for randomly chosen samples of aspirants?**"
   ]
  },
  {
   "cell_type": "markdown",
   "id": "c983f794",
   "metadata": {},
   "source": [
    "**A.\tThe standard deviation of the scores within any sample will be 120.**\n",
    "> **SD will not be 120 of scores in any one sample, especially since we don't know the sample size.**"
   ]
  },
  {
   "cell_type": "markdown",
   "id": "800527d8",
   "metadata": {},
   "source": [
    "**B. SD will not be 120 of scores in any one sample, especially since we don't know the sample size.**\n",
    ">**SD of mean across several samples will also not be 120. It will be less; indeed, probably about 0.6**"
   ]
  },
  {
   "cell_type": "markdown",
   "id": "ab17de54",
   "metadata": {},
   "source": [
    "**C. SD of mean across several samples will also not be 120. It will be less; indeed, probably about 0.6**\n",
    ">  **The mean score in any sample will be 720. Maybe, but no reason it couldn't be less or more**"
   ]
  },
  {
   "cell_type": "markdown",
   "id": "76c64a36",
   "metadata": {},
   "source": [
    "**D.  The mean score in any sample will be 720. Maybe, but no reason it couldn't be less or more**\n",
    "> The average of the mean across several samples will be 720. This is certainly possible, but it requires the mean of all samples that sample size, which would be the case"
   ]
  },
  {
   "cell_type": "markdown",
   "id": "03a949d5",
   "metadata": {},
   "source": [
    "**E.The standard deviation of the mean across several samples will be 0.60**\n",
    "> **The SEM will be 0.60. This is likely, given the sample size, which even with a lot of skewness will tend towards normality given the sample size. I would use this in calculations. The mean would have an expected value of 720, but in calculations, the SEM is 0.6.**"
   ]
  },
  {
   "cell_type": "markdown",
   "id": "271a5cd9",
   "metadata": {},
   "source": [
    "***"
   ]
  },
  {
   "cell_type": "code",
   "execution_count": null,
   "id": "a1f502d6",
   "metadata": {},
   "outputs": [],
   "source": []
  }
 ],
 "metadata": {
  "kernelspec": {
   "display_name": "Python 3 (ipykernel)",
   "language": "python",
   "name": "python3"
  },
  "language_info": {
   "codemirror_mode": {
    "name": "ipython",
    "version": 3
   },
   "file_extension": ".py",
   "mimetype": "text/x-python",
   "name": "python",
   "nbconvert_exporter": "python",
   "pygments_lexer": "ipython3",
   "version": "3.10.4"
  }
 },
 "nbformat": 4,
 "nbformat_minor": 5
}
