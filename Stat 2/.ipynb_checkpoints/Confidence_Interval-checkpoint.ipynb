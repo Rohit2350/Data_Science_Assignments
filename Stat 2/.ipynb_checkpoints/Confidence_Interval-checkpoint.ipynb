{
 "cells": [
  {
   "cell_type": "markdown",
   "id": "338ff699",
   "metadata": {},
   "source": [
    "# Confidence Interval"
   ]
  },
  {
   "cell_type": "markdown",
   "id": "8cf5de14",
   "metadata": {},
   "source": [
    "***"
   ]
  },
  {
   "cell_type": "markdown",
   "id": "cea7a58c",
   "metadata": {},
   "source": [
    "## **Question 1**"
   ]
  },
  {
   "cell_type": "markdown",
   "id": "70da3dc7",
   "metadata": {},
   "source": [
    "**I.The sample size of the survey should at least be a fixed percentage of the population size in order to produce representative results.**\n",
    ">> **False** ,Suppose if we considered the sample size as 40% out of puoulation it will be considered as large enough but not adequate to produce the required results and it may depend case to case"
   ]
  },
  {
   "cell_type": "markdown",
   "id": "d7a52128",
   "metadata": {},
   "source": [
    "**II.\tThe sampling frame is a list of every item that appears in a survey sample, including those that did not respond to questions.**\n",
    ">> **True**, yes the sapmpling frame is a list of every item that appers in a survey sample inclucdin those who doesn't respond  because that sample is taken out of a population"
   ]
  },
  {
   "cell_type": "markdown",
   "id": "527dc73a",
   "metadata": {},
   "source": [
    "**III.\tLarger surveys convey a more accurate impression of the population than smaller surveys.**\n",
    ">> **True**"
   ]
  },
  {
   "cell_type": "markdown",
   "id": "0493aae4",
   "metadata": {},
   "source": [
    "***"
   ]
  },
  {
   "cell_type": "markdown",
   "id": "2bbdce5f",
   "metadata": {},
   "source": [
    "## Question 2"
   ]
  },
  {
   "cell_type": "markdown",
   "id": "e49f3db4",
   "metadata": {},
   "source": [
    "**PC Magazine asked all of its readers to participate in a survey of their satisfaction with different brands of electronics. In the 2004 survey, which was included in an issue of the magazine that year, more than 9000 readers rated the products on a scale from 1 to 10. The magazine reported that the average rating assigned by 225 readers to a Kodak compact digital camera was 7.5. For this product, identify the following:**"
   ]
  },
  {
   "cell_type": "markdown",
   "id": "96a4d2a5",
   "metadata": {},
   "source": [
    "##### A.\tThe population-All the Readers of PC magzine\n",
    "##### B.\tThe parameter of interest-\n",
    "##### C.\tThe sampling frame-Readers that rated product around (9000)\n",
    "##### D.\tThe sample size-225\n",
    "##### E.\tThe sampling design-\n",
    "##### F.\tAny potential sources of bias or other problems with the survey or  sample-\n",
    "###### selction of readers,selection of the issue which will contain the survey\n"
   ]
  },
  {
   "cell_type": "markdown",
   "id": "125a8130",
   "metadata": {},
   "source": [
    "***"
   ]
  },
  {
   "cell_type": "markdown",
   "id": "f9a7bb30",
   "metadata": {},
   "source": [
    "## Question 3"
   ]
  },
  {
   "cell_type": "markdown",
   "id": "01fbcf15",
   "metadata": {},
   "source": [
    "**For each of the following statements, indicate whether it is True/False. If false, explain why.**"
   ]
  },
  {
   "cell_type": "markdown",
   "id": "83dbeeb4",
   "metadata": {},
   "source": [
    "**3.1 If the 95% confidence interval for the average purchase of customers at a department store is 50 to 110, then 100 is a plausible value for the population mean at this level of confidence.**\n",
    ">**True**,\n",
    "The 95% confidence interval for the average purchase of customers at a department store is 50 to 110. Which means that there is a 95% chance that the population mean will fall between 50 and 110. Hence, as 100 falls between 50 and 110, it is a plausible value for the population mean at this confidence level.\n",
    "   "
   ]
  },
  {
   "cell_type": "markdown",
   "id": "93c628b3",
   "metadata": {},
   "source": [
    "**3.2 The 95% confidence interval for the average purchase of customers at a department store is 50 to 110. Which means that there is a 95% chance that the population mean will fall between 50 and 110. Hence, as 100 falls between 50 and 110, it is a plausible value for the population mean at this confidence level.**\n",
    "\n",
    ">**True**,\n",
    " The 95% confidence interval for the number of moviegoers who purchase concessions is 30% to 45%, this means that there is a 95% chance that only 30 to 45 % of moviegoers purchase concessions, which is less than 50%. Hence, we can infer that fewerthan half of all the moviegoers purchase concessions."
   ]
  },
  {
   "cell_type": "markdown",
   "id": "40a2b0cc",
   "metadata": {},
   "source": [
    "**3.3 The 95% confidence interval for the number of moviegoers who purchase concessions is 30% to 45%, this means that there is a 95% chance that only 30 to 45 % of moviegoers purchase concessions, which is less than 50%. Hence, we can infer that fewerthan half of all the moviegoers purchase concessions.**\n",
    "\n",
    ">**True**"
   ]
  },
  {
   "cell_type": "markdown",
   "id": "2549755f",
   "metadata": {},
   "source": [
    "***"
   ]
  },
  {
   "cell_type": "markdown",
   "id": "f5378b75",
   "metadata": {},
   "source": [
    "## Question 4"
   ]
  },
  {
   "cell_type": "markdown",
   "id": "0f3d12ca",
   "metadata": {},
   "source": [
    "**What are the chances that ?**\n",
    ">**D. 1 (Mean of Sample means is equal to population mean)**"
   ]
  },
  {
   "cell_type": "markdown",
   "id": "c42bac80",
   "metadata": {},
   "source": [
    "***"
   ]
  },
  {
   "cell_type": "markdown",
   "id": "de88b1b1",
   "metadata": {},
   "source": [
    "## Question 5"
   ]
  },
  {
   "cell_type": "markdown",
   "id": "ae664484",
   "metadata": {},
   "source": [
    "**5.In January 2005, a company that monitors Internet traffic (WebSideStory) reported that its sampling revealed that the Mozilla Firefox browser launched in 2004 had grabbed a 4.6% share of the market.**"
   ]
  },
  {
   "cell_type": "markdown",
   "id": "664efb0d",
   "metadata": {},
   "source": [
    "**5.1 I.If the sample were based on 2,000 users, could Microsoft conclude that Mozilla has a less than 5% share of the market?**\n",
    "> **NO**"
   ]
  },
  {
   "cell_type": "markdown",
   "id": "e7391066",
   "metadata": {},
   "source": [
    "**5.2 II.\tWebSideStory claims that its sample includes all the daily Internet users. If that’s the case, then can Microsoft conclude that Mozilla has a less than 5% share of the market?**\n",
    "> **Yes**"
   ]
  },
  {
   "cell_type": "markdown",
   "id": "135fb75c",
   "metadata": {},
   "source": [
    "***"
   ]
  },
  {
   "cell_type": "markdown",
   "id": "739ec01d",
   "metadata": {},
   "source": [
    "## Question 6"
   ]
  },
  {
   "cell_type": "markdown",
   "id": "890f7d91",
   "metadata": {},
   "source": [
    "**A book publisher monitors the size of shipments of its textbooks to university bookstores. For a sample of texts used at various schools, the 95% confidence interval for the size of the shipment was 250 ± 45 books. Which, if any, of the following interpretations of this interval are correct?**"
   ]
  },
  {
   "cell_type": "markdown",
   "id": "44572f7d",
   "metadata": {},
   "source": [
    "**A. All shipments are between 205 and 295 books**\n",
    "> Incorrect"
   ]
  },
  {
   "cell_type": "markdown",
   "id": "21e0b1c3",
   "metadata": {},
   "source": [
    "**B.95% of shipments are between 205 and 295 books**\n",
    "> Correct"
   ]
  },
  {
   "cell_type": "markdown",
   "id": "5e7796e2",
   "metadata": {},
   "source": [
    "**C.\tThe procedure that produced this interval generates ranges that hold the population mean for 95% of samples.**\n",
    "> Correct"
   ]
  },
  {
   "cell_type": "markdown",
   "id": "285c473c",
   "metadata": {},
   "source": [
    "**D.\tIf we get another sample, then we can be 95% sure that the mean of this second sample is between 205 and 295.**\n",
    "> Correct"
   ]
  },
  {
   "cell_type": "markdown",
   "id": "3f635664",
   "metadata": {},
   "source": [
    "**E.\tWe can be 95% confident that the range 160 to 340 holds the population mean.**\n",
    "> Incorrect"
   ]
  },
  {
   "cell_type": "markdown",
   "id": "3bc8fda3",
   "metadata": {},
   "source": [
    "***"
   ]
  },
  {
   "cell_type": "markdown",
   "id": "a9e5b629",
   "metadata": {},
   "source": [
    "## Question 7"
   ]
  },
  {
   "cell_type": "markdown",
   "id": "c9ff05d4",
   "metadata": {},
   "source": [
    "**Which is shorter: a 95% z-interval or a 95% t-interval for μ if we know that σ =s?**\n",
    "> **Z Interval is Shorter**"
   ]
  },
  {
   "cell_type": "markdown",
   "id": "2807c201",
   "metadata": {},
   "source": [
    "****"
   ]
  },
  {
   "cell_type": "markdown",
   "id": "39fed285",
   "metadata": {},
   "source": [
    "## Question 8"
   ]
  },
  {
   "cell_type": "markdown",
   "id": "cd74afee",
   "metadata": {},
   "source": [
    "**How many randomly selected employers (minimum number) must we contact in order to guarantee a margin of error of no more than 4% (at 95% confidence)**\n",
    "> **600**"
   ]
  },
  {
   "cell_type": "markdown",
   "id": "db1ec061",
   "metadata": {},
   "source": [
    "***"
   ]
  },
  {
   "cell_type": "markdown",
   "id": "815efaf6",
   "metadata": {},
   "source": [
    "## Question 9"
   ]
  },
  {
   "cell_type": "markdown",
   "id": "902d75f7",
   "metadata": {},
   "source": [
    "**Suppose we want the above margin of error to be based on a 98% confidence level. What sample size (minimum) must we now use?**\n",
    "> 1000"
   ]
  },
  {
   "cell_type": "code",
   "execution_count": null,
   "id": "af330dcd",
   "metadata": {},
   "outputs": [],
   "source": []
  }
 ],
 "metadata": {
  "kernelspec": {
   "display_name": "Python 3 (ipykernel)",
   "language": "python",
   "name": "python3"
  },
  "language_info": {
   "codemirror_mode": {
    "name": "ipython",
    "version": 3
   },
   "file_extension": ".py",
   "mimetype": "text/x-python",
   "name": "python",
   "nbconvert_exporter": "python",
   "pygments_lexer": "ipython3",
   "version": "3.10.4"
  }
 },
 "nbformat": 4,
 "nbformat_minor": 5
}
