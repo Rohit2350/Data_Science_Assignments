{
 "cells": [
  {
   "cell_type": "markdown",
   "id": "1784dc2e",
   "metadata": {},
   "source": [
    "# Topics Normal distribution, Functions of Random Variables"
   ]
  },
  {
   "cell_type": "markdown",
   "id": "730a9f16",
   "metadata": {},
   "source": [
    "***"
   ]
  },
  {
   "cell_type": "markdown",
   "id": "18d62d4d",
   "metadata": {},
   "source": [
    "###  **1) Question 1**"
   ]
  },
  {
   "cell_type": "markdown",
   "id": "25c2b2ed",
   "metadata": {},
   "source": [
    " We have a normal distribution with   = 45 and   = 8.0. Let X  be the amount of time it takes to complete the repair on a customer's car. To finish in one hour you must have X ≤ 50 so the question is to find Pr(X > 50).\n",
    "\n",
    "Pr(X > 50) = 1 - Pr(X ≤ 50).\n",
    "Z = (X -  )/  = (X - 45)/8.0\n",
    "Thus the question can be answered by using the normal table to find\n",
    "Pr(X ≤ 50) = Pr(Z ≤ (50 - 45)/8.0) = Pr(Z ≤ 0.625)=73.4%\n",
    "Probability that the service manager will not meet his demand will be = 100-73.4 = 26.6% or 0.2676\n",
    "\n"
   ]
  },
  {
   "cell_type": "markdown",
   "id": "c7f6590d",
   "metadata": {},
   "source": [
    "***"
   ]
  },
  {
   "cell_type": "markdown",
   "id": "37a3853b",
   "metadata": {},
   "source": [
    "### **2) Question 2**"
   ]
  },
  {
   "cell_type": "markdown",
   "id": "e240e53e",
   "metadata": {},
   "source": [
    "We have a normal distribution with   = 38 and   = 6. Let X be the number of employees. So according to question\n",
    "A)Probabilty of employees greater than age of 44= Pr(X>44)\n",
    "Pr(X > 44) = 1 - Pr(X ≤ 44).\n",
    "Z = (X -  )/  = (X - 38)/6\n",
    "Thus the question can be answered by using the normal table to find\n",
    "Pr(X ≤ 44) = Pr(Z ≤ (44 - 38)/6) = Pr(Z ≤ 1)=84.1345%\n",
    "Probabilty that the employee will be greater than age of 44 = 100-84.1345=15.86%\n",
    " So the probability of number of employees between 38-44 years of age = Pr(X<44)-0.5=84.1345-0.5= 34.1345%\n",
    "Therefore the statement  that “More employees at the processing center are older than 44 than between 38 and 44” is TRUE.\n",
    "\n",
    "B) Probabilty of employees less than age of 30 =  Pr(X<30).\n",
    "Z = (X -  )/  = (30 - 38)/6\n",
    "Thus the  question can be answered by using the normal table to find\n",
    "Pr(X ≤ 30) = Pr(Z ≤ (30 - 38)/6) = Pr(Z ≤ -1.333)=9.12%\n",
    "\n",
    "\n",
    "So the number of employees with probability 0.912 of them being under age 30 = 0.0912*400=36.48( or 36 employees).\n",
    "Therefore the statement B of the question is also TRUE."
   ]
  },
  {
   "cell_type": "markdown",
   "id": "6c2922c3",
   "metadata": {},
   "source": [
    "***"
   ]
  },
  {
   "cell_type": "markdown",
   "id": "55022bdf",
   "metadata": {},
   "source": [
    "## **3) Question3**"
   ]
  },
  {
   "cell_type": "markdown",
   "id": "856b8b1f",
   "metadata": {},
   "source": [
    " As we know that if  X ∼ N(µ1, σ1^2 ), and  Y ∼ N(µ2, σ2^2 ) are two independent  random variables then   X + Y ∼ N(µ1 + µ2, σ1^2 + σ2^2 ) , and      X − Y ∼ N(µ1 − µ2, σ1^2 + σ2^2 ) .\n",
    "Similarly if  Z = aX + bY , where X and Y are as defined above, i.e Z is linear combination of X and Y , then Z ∼ N(aµ1 + bµ2, a^2σ1^2 + b^2σ2^2 ).\n",
    "Therefore in the question \n",
    "2X1~ N(2 u,4 σ^2) and \n",
    "X1+X2 ~  N(µ + µ, σ^2 + σ^2 ) ~ N(2 u, 2σ^2 )\n",
    "2X1-(X1+X2) = N( 4µ,6 σ^2)\n"
   ]
  },
  {
   "cell_type": "markdown",
   "id": "0f46fbd6",
   "metadata": {},
   "source": [
    "***"
   ]
  },
  {
   "cell_type": "markdown",
   "id": "156b3ccc",
   "metadata": {},
   "source": [
    "### **4) Question 4**\n"
   ]
  },
  {
   "cell_type": "markdown",
   "id": "af19cf1a",
   "metadata": {},
   "source": [
    "Since we need to find out the values of a and b, which are symmetric about the mean, such that the probability of random variable taking a value between them is 0.99, we have to work out in reverse order. \n",
    "The Probability of getting value between a and b should be 0.99.\n",
    "So the Probability of going wrong, or the Probability outside the a and b area is 0.01 (ie. 1-0.99).\n",
    "The Probability towards left from a = -0.005 (ie. 0.01/2). \n",
    "The Probability towards right from b = +0.005 (ie. 0.01/2).\n",
    "So since we have the probabilities of a and b, we need to calculate X, the random variable at a and b which has got these probabilities. \n",
    "By finding the Standard Normal Variable Z (Z Value), we can calculate the X values.\n",
    "Z=(X- μ) / σ \n",
    "For Probability 0.005 the Z Value is -2.57 (from Z Table).\n",
    "Z * σ + μ = X\n",
    "Z(-0.005)*20+100 = -(-2.57)*20+100 = 151.4\n",
    "Z(+0.005)*20+100 = (-2.57)*20+100 = 48.6\n",
    "So, option D is correct."
   ]
  },
  {
   "cell_type": "markdown",
   "id": "5d725d4e",
   "metadata": {},
   "source": [
    "***"
   ]
  },
  {
   "cell_type": "markdown",
   "id": "d1446c1d",
   "metadata": {},
   "source": [
    "### **5) Question**"
   ]
  },
  {
   "cell_type": "code",
   "execution_count": 2,
   "id": "ab755e5b",
   "metadata": {},
   "outputs": [],
   "source": [
    "import numpy as np\n",
    "from scipy import stats\n",
    "from scipy.stats import norm"
   ]
  },
  {
   "cell_type": "code",
   "execution_count": 3,
   "id": "05b8508d",
   "metadata": {},
   "outputs": [
    {
     "name": "stdout",
     "output_type": "stream",
     "text": [
      "Mean Profit is Rs 540 Million\n"
     ]
    }
   ],
   "source": [
    "Mean = 5+7\n",
    "print('Mean Profit is Rs', Mean*45,'Million')"
   ]
  },
  {
   "cell_type": "code",
   "execution_count": 4,
   "id": "1a7cdaf5",
   "metadata": {},
   "outputs": [
    {
     "name": "stdout",
     "output_type": "stream",
     "text": [
      "Standard Deviation is Rs 225.0 Million\n"
     ]
    }
   ],
   "source": [
    "SD = np.sqrt((9)+(16))\n",
    "print('Standard Deviation is Rs', SD*45, 'Million')"
   ]
  },
  {
   "cell_type": "code",
   "execution_count": 5,
   "id": "8b5d4d9e",
   "metadata": {},
   "outputs": [
    {
     "name": "stdout",
     "output_type": "stream",
     "text": [
      "Range is Rs (99.00810347848784, 980.9918965215122) in Millions\n"
     ]
    }
   ],
   "source": [
    "print('Range is Rs',(stats.norm.interval(0.95,540,225)),'in Millions')"
   ]
  },
  {
   "cell_type": "code",
   "execution_count": 6,
   "id": "8cd2d5dc",
   "metadata": {},
   "outputs": [
    {
     "name": "stdout",
     "output_type": "stream",
     "text": [
      "5th percentile of profit (in Million Rupees) is 170.0\n"
     ]
    }
   ],
   "source": [
    "X= 540+(-1.645)*(225)\n",
    "print('5th percentile of profit (in Million Rupees) is',np.round(X,))"
   ]
  },
  {
   "cell_type": "code",
   "execution_count": 7,
   "id": "9f6e8866",
   "metadata": {},
   "outputs": [
    {
     "data": {
      "text/plain": [
       "0.0477903522728147"
      ]
     },
     "execution_count": 7,
     "metadata": {},
     "output_type": "execute_result"
    }
   ],
   "source": [
    "stats.norm.cdf(0,5,3)"
   ]
  },
  {
   "cell_type": "code",
   "execution_count": 8,
   "id": "65408c0b",
   "metadata": {},
   "outputs": [
    {
     "data": {
      "text/plain": [
       "0.040059156863817086"
      ]
     },
     "execution_count": 8,
     "metadata": {},
     "output_type": "execute_result"
    }
   ],
   "source": [
    "stats.norm.cdf(0,7,4)"
   ]
  },
  {
   "cell_type": "markdown",
   "id": "8df64b01",
   "metadata": {},
   "source": [
    "***"
   ]
  }
 ],
 "metadata": {
  "kernelspec": {
   "display_name": "Python 3 (ipykernel)",
   "language": "python",
   "name": "python3"
  },
  "language_info": {
   "codemirror_mode": {
    "name": "ipython",
    "version": 3
   },
   "file_extension": ".py",
   "mimetype": "text/x-python",
   "name": "python",
   "nbconvert_exporter": "python",
   "pygments_lexer": "ipython3",
   "version": "3.10.4"
  }
 },
 "nbformat": 4,
 "nbformat_minor": 5
}
